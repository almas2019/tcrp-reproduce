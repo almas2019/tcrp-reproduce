{
 "cells": [
  {
   "cell_type": "code",
   "execution_count": 1,
   "id": "9609bc1a-10ad-4e9d-ba23-d59a8ca4eed8",
   "metadata": {
    "tags": []
   },
   "outputs": [
    {
     "name": "stdout",
     "output_type": "stream",
     "text": [
      "\n",
      "Python path:  /opt/anaconda3/bin/python\n"
     ]
    }
   ],
   "source": [
    "%load_ext autoreload\n",
    "%autoreload 2\n",
    "!echo $HOSTNAME\n",
    "\n",
    "import sys\n",
    "print('Python path: ', sys.executable)"
   ]
  },
  {
   "cell_type": "code",
   "execution_count": 2,
   "id": "c2e06573-afc3-42dc-8d7f-9f356554bc00",
   "metadata": {},
   "outputs": [],
   "source": [
    "from pathlib import Path\n",
    "from collections import namedtuple\n",
    "import numpy as np\n",
    "import matplotlib.pyplot as plt\n",
    "import pandas as pd\n",
    "import sys\n",
    "import pickle\n",
    "\n",
    "\n",
    "from multiprocessing import Pool, cpu_count"
   ]
  },
  {
   "cell_type": "code",
   "execution_count": 3,
   "id": "14650806-c815-43f2-ba90-8b1c286b5261",
   "metadata": {},
   "outputs": [],
   "source": [
    "Metrics = namedtuple(\"Metrics\", ['train_loss', 'train_corr', 'test_loss', 'test_corr'])"
   ]
  },
  {
   "cell_type": "code",
   "execution_count": 8,
   "id": "cc4fe9bf-769e-4742-820f-eb73e51f5235",
   "metadata": {},
   "outputs": [],
   "source": [
    "def correctly_parse_log_path(filepath): \n",
    "    filepath = Path(filepath)\n",
    "    stem = filepath.stem\n",
    "    \n",
    "    array = stem.split(\"_\")\n",
    "    hyperparameter_str = '_'.join(array[-4:])\n",
    "    \n",
    "    best_epoch = -1\n",
    "    record = False\n",
    "    \n",
    "    all_metrics = []\n",
    "    \n",
    "    with open(filepath) as f: \n",
    "        for line in f.readlines(): \n",
    "            if line.startswith(\"epoch:\"): \n",
    "                record = True\n",
    "                epoch = int(line.split(':')[1].strip())\n",
    "                metrics_container = []\n",
    "                continue\n",
    "                \n",
    "            if line.startswith(\"Meta update\"): \n",
    "                record = False\n",
    "                current_best_epoch = int(line.split('best epoch')[1].strip())\n",
    "                if current_best_epoch > best_epoch: \n",
    "                    best_epoch = current_best_epoch\n",
    "                    \n",
    "                all_metrics.append(np.vstack(metrics_container))\n",
    "                    \n",
    "            if record: \n",
    "                try: \n",
    "                    k, metrics = parse_line(line)\n",
    "                except: \n",
    "                    continue\n",
    "                    \n",
    "                metrics_container.append(metrics)\n",
    "                \n",
    "    performance = all_metrics[best_epoch]\n",
    "    train_loss = performance[:, 0]\n",
    "    train_corr = performance[:, 1]\n",
    "    test_loss = performance[:, 2]\n",
    "    test_corr = performance[:, 3]\n",
    "    \n",
    "    return train_loss, train_corr, test_loss, test_corr\n",
    "    \n",
    "                \n",
    "def parse_line(line):\n",
    "    k = int(line.split('Few shot')[0].strip())\n",
    "    if line.startswith(\"0 Few shot\"):\n",
    "        line = line.replace('tensor(', '').replace(', device=', ' ')\n",
    "\n",
    "    line = line.split(':')[1]\n",
    "    vals = [float(i) for i in line.split()[:4]]\n",
    "    \n",
    "    return k, vals\n",
    "\n",
    "\n",
    "def select_hyperparameter(log_directory): \n",
    "    log_directory = Path(log_directory)\n",
    "    \n",
    "    results = {}\n",
    "    \n",
    "    train_corrs, test_corrs, names = [], [], []\n",
    "    \n",
    "    for f in log_directory.glob(\"*.log\"):\n",
    "        hyperparameter = '-'.join(f.stem.split('_')[-4:])\n",
    "        out = correctly_parse_log_path(f)\n",
    "\n",
    "        result = Metrics(*out)\n",
    "        results[hyperparameter] = result\n",
    "        \n",
    "        train_corrs.append(result.train_corr)\n",
    "        test_corrs.append(result.test_corr)\n",
    "        names.append(hyperparameter)\n",
    "        \n",
    "    train_corrs = np.vstack(train_corrs)\n",
    "    test_corrs = np.vstack(test_corrs)\n",
    "    names = np.array(names)\n",
    "    \n",
    "    best_models = np.argmax(train_corrs, axis=0)\n",
    "    best_hyperparameters = names[best_models]\n",
    "    best_performances = test_corrs[best_models, np.arange(len(best_models))]\n",
    "        \n",
    "    # Select model with the lowest training loss in the final k\n",
    "#     best_hyperparameter, best_hyperparameter_performance = sorted(results.items(), key=lambda x: x[1].train_loss[-1])[0]\n",
    "#     best_hyperparameter, best_hyperparameter_performance = sorted(results.items(), key=lambda x: x[1].train_corr[-1])[-1]\n",
    "\n",
    "#     return best_hyperparameter, best_hyperparameter_performance\n",
    "\n",
    "#     return results\n",
    "\n",
    "    return best_hyperparameters, best_performances"
   ]
  },
  {
   "cell_type": "code",
   "execution_count": 25,
   "id": "a4c32aa2-d8e8-4687-b185-7117ffe124f3",
   "metadata": {},
   "outputs": [
    {
     "name": "stdout",
     "output_type": "stream",
     "text": [
      "[PosixPath('../output/210803_drug-baseline-models/run-logs/Dasatinib/large_intestine'), PosixPath('../output/210803_drug-baseline-models/run-logs/Dasatinib/acute_myeloid_leukaemia'), PosixPath('../output/210803_drug-baseline-models/run-logs/Dasatinib/neuroblastoma'), PosixPath('../output/210803_drug-baseline-models/run-logs/Dasatinib/melanoma'), PosixPath('../output/210803_drug-baseline-models/run-logs/Dasatinib/B_cell_lymphoma'), PosixPath('../output/210803_drug-baseline-models/run-logs/Dasatinib/glioma'), PosixPath('../output/210803_drug-baseline-models/run-logs/Dasatinib/ewings_sarcoma'), PosixPath('../output/210803_drug-baseline-models/run-logs/Dasatinib/lung_small_cell_carcinoma'), PosixPath('../output/210803_drug-baseline-models/run-logs/Genentech_Cpd_10/large_intestine'), PosixPath('../output/210803_drug-baseline-models/run-logs/Genentech_Cpd_10/oesophagus'), PosixPath('../output/210803_drug-baseline-models/run-logs/Genentech_Cpd_10/acute_myeloid_leukaemia'), PosixPath('../output/210803_drug-baseline-models/run-logs/Genentech_Cpd_10/lung_NSCLC_adenocarcinoma'), PosixPath('../output/210803_drug-baseline-models/run-logs/Genentech_Cpd_10/breast'), PosixPath('../output/210803_drug-baseline-models/run-logs/Genentech_Cpd_10/neuroblastoma'), PosixPath('../output/210803_drug-baseline-models/run-logs/Genentech_Cpd_10/melanoma'), PosixPath('../output/210803_drug-baseline-models/run-logs/Genentech_Cpd_10/kidney'), PosixPath('../output/210803_drug-baseline-models/run-logs/Genentech_Cpd_10/B_cell_lymphoma'), PosixPath('../output/210803_drug-baseline-models/run-logs/Genentech_Cpd_10/glioma'), PosixPath('../output/210803_drug-baseline-models/run-logs/Genentech_Cpd_10/stomach'), PosixPath('../output/210803_drug-baseline-models/run-logs/Genentech_Cpd_10/Bladder'), PosixPath('../output/210803_drug-baseline-models/run-logs/Genentech_Cpd_10/ewings_sarcoma'), PosixPath('../output/210803_drug-baseline-models/run-logs/Genentech_Cpd_10/thyroid'), PosixPath('../output/210803_drug-baseline-models/run-logs/Genentech_Cpd_10/pancreas'), PosixPath('../output/210803_drug-baseline-models/run-logs/Genentech_Cpd_10/lung_small_cell_carcinoma'), PosixPath('../output/210803_drug-baseline-models/run-logs/Genentech_Cpd_10/liver'), PosixPath('../output/210803_drug-baseline-models/run-logs/Genentech_Cpd_10/ovary'), PosixPath('../output/210803_drug-baseline-models/run-logs/Genentech_Cpd_10/mesothelioma'), PosixPath('../output/210803_drug-baseline-models/run-logs/Rucaparib/large_intestine'), PosixPath('../output/210803_drug-baseline-models/run-logs/Rucaparib/oesophagus'), PosixPath('../output/210803_drug-baseline-models/run-logs/Rucaparib/acute_myeloid_leukaemia'), PosixPath('../output/210803_drug-baseline-models/run-logs/Rucaparib/lung_NSCLC_adenocarcinoma'), PosixPath('../output/210803_drug-baseline-models/run-logs/Rucaparib/breast'), PosixPath('../output/210803_drug-baseline-models/run-logs/Rucaparib/neuroblastoma'), PosixPath('../output/210803_drug-baseline-models/run-logs/Rucaparib/melanoma'), PosixPath('../output/210803_drug-baseline-models/run-logs/Rucaparib/kidney'), PosixPath('../output/210803_drug-baseline-models/run-logs/Rucaparib/B_cell_lymphoma'), PosixPath('../output/210803_drug-baseline-models/run-logs/Rucaparib/lung_NSCLC_squamous_cell_carcinoma'), PosixPath('../output/210803_drug-baseline-models/run-logs/Rucaparib/glioma'), PosixPath('../output/210803_drug-baseline-models/run-logs/Rucaparib/stomach'), PosixPath('../output/210803_drug-baseline-models/run-logs/Rucaparib/Bladder'), PosixPath('../output/210803_drug-baseline-models/run-logs/Rucaparib/ewings_sarcoma'), PosixPath('../output/210803_drug-baseline-models/run-logs/Rucaparib/thyroid'), PosixPath('../output/210803_drug-baseline-models/run-logs/Rucaparib/pancreas'), PosixPath('../output/210803_drug-baseline-models/run-logs/Rucaparib/lung_small_cell_carcinoma'), PosixPath('../output/210803_drug-baseline-models/run-logs/Rucaparib/liver'), PosixPath('../output/210803_drug-baseline-models/run-logs/Rucaparib/ovary'), PosixPath('../output/210803_drug-baseline-models/run-logs/Rucaparib/mesothelioma'), PosixPath('../output/210803_drug-baseline-models/run-logs/Linifanib/large_intestine'), PosixPath('../output/210803_drug-baseline-models/run-logs/Linifanib/oesophagus'), PosixPath('../output/210803_drug-baseline-models/run-logs/Linifanib/acute_myeloid_leukaemia'), PosixPath('../output/210803_drug-baseline-models/run-logs/Linifanib/lung_NSCLC_adenocarcinoma'), PosixPath('../output/210803_drug-baseline-models/run-logs/Linifanib/breast'), PosixPath('../output/210803_drug-baseline-models/run-logs/Linifanib/neuroblastoma'), PosixPath('../output/210803_drug-baseline-models/run-logs/Linifanib/melanoma'), PosixPath('../output/210803_drug-baseline-models/run-logs/Linifanib/kidney'), PosixPath('../output/210803_drug-baseline-models/run-logs/Linifanib/B_cell_lymphoma'), PosixPath('../output/210803_drug-baseline-models/run-logs/Linifanib/glioma'), PosixPath('../output/210803_drug-baseline-models/run-logs/Linifanib/stomach'), PosixPath('../output/210803_drug-baseline-models/run-logs/Linifanib/Bladder'), PosixPath('../output/210803_drug-baseline-models/run-logs/Linifanib/ewings_sarcoma'), PosixPath('../output/210803_drug-baseline-models/run-logs/Linifanib/thyroid'), PosixPath('../output/210803_drug-baseline-models/run-logs/Linifanib/pancreas'), PosixPath('../output/210803_drug-baseline-models/run-logs/Linifanib/lung_small_cell_carcinoma'), PosixPath('../output/210803_drug-baseline-models/run-logs/Linifanib/liver'), PosixPath('../output/210803_drug-baseline-models/run-logs/Linifanib/ovary'), PosixPath('../output/210803_drug-baseline-models/run-logs/Linifanib/mesothelioma'), PosixPath('../output/210803_drug-baseline-models/run-logs/Talazoparib/large_intestine'), PosixPath('../output/210803_drug-baseline-models/run-logs/Talazoparib/oesophagus'), PosixPath('../output/210803_drug-baseline-models/run-logs/Talazoparib/acute_myeloid_leukaemia'), PosixPath('../output/210803_drug-baseline-models/run-logs/Talazoparib/lung_NSCLC_adenocarcinoma'), PosixPath('../output/210803_drug-baseline-models/run-logs/Talazoparib/breast'), PosixPath('../output/210803_drug-baseline-models/run-logs/Talazoparib/neuroblastoma'), PosixPath('../output/210803_drug-baseline-models/run-logs/Talazoparib/melanoma'), PosixPath('../output/210803_drug-baseline-models/run-logs/Talazoparib/kidney'), PosixPath('../output/210803_drug-baseline-models/run-logs/Talazoparib/B_cell_lymphoma'), PosixPath('../output/210803_drug-baseline-models/run-logs/Talazoparib/lung_NSCLC_squamous_cell_carcinoma'), PosixPath('../output/210803_drug-baseline-models/run-logs/Talazoparib/glioma'), PosixPath('../output/210803_drug-baseline-models/run-logs/Talazoparib/stomach'), PosixPath('../output/210803_drug-baseline-models/run-logs/Talazoparib/Bladder'), PosixPath('../output/210803_drug-baseline-models/run-logs/Talazoparib/ewings_sarcoma'), PosixPath('../output/210803_drug-baseline-models/run-logs/Talazoparib/thyroid'), PosixPath('../output/210803_drug-baseline-models/run-logs/Talazoparib/pancreas'), PosixPath('../output/210803_drug-baseline-models/run-logs/Talazoparib/lung_small_cell_carcinoma'), PosixPath('../output/210803_drug-baseline-models/run-logs/Talazoparib/liver'), PosixPath('../output/210803_drug-baseline-models/run-logs/Talazoparib/ovary'), PosixPath('../output/210803_drug-baseline-models/run-logs/Talazoparib/mesothelioma'), PosixPath('../output/210803_drug-baseline-models/run-logs/I-BET-762/large_intestine'), PosixPath('../output/210803_drug-baseline-models/run-logs/I-BET-762/oesophagus'), PosixPath('../output/210803_drug-baseline-models/run-logs/I-BET-762/acute_myeloid_leukaemia'), PosixPath('../output/210803_drug-baseline-models/run-logs/I-BET-762/lung_NSCLC_adenocarcinoma'), PosixPath('../output/210803_drug-baseline-models/run-logs/I-BET-762/breast'), PosixPath('../output/210803_drug-baseline-models/run-logs/I-BET-762/neuroblastoma'), PosixPath('../output/210803_drug-baseline-models/run-logs/I-BET-762/melanoma'), PosixPath('../output/210803_drug-baseline-models/run-logs/I-BET-762/kidney'), PosixPath('../output/210803_drug-baseline-models/run-logs/I-BET-762/B_cell_lymphoma'), PosixPath('../output/210803_drug-baseline-models/run-logs/I-BET-762/glioma'), PosixPath('../output/210803_drug-baseline-models/run-logs/I-BET-762/stomach'), PosixPath('../output/210803_drug-baseline-models/run-logs/I-BET-762/Bladder'), PosixPath('../output/210803_drug-baseline-models/run-logs/I-BET-762/ewings_sarcoma'), PosixPath('../output/210803_drug-baseline-models/run-logs/I-BET-762/thyroid'), PosixPath('../output/210803_drug-baseline-models/run-logs/I-BET-762/pancreas'), PosixPath('../output/210803_drug-baseline-models/run-logs/I-BET-762/lung_small_cell_carcinoma'), PosixPath('../output/210803_drug-baseline-models/run-logs/I-BET-762/liver'), PosixPath('../output/210803_drug-baseline-models/run-logs/I-BET-762/ovary'), PosixPath('../output/210803_drug-baseline-models/run-logs/I-BET-762/mesothelioma'), PosixPath('../output/210803_drug-baseline-models/run-logs/CGP-60474/large_intestine'), PosixPath('../output/210803_drug-baseline-models/run-logs/CGP-60474/acute_myeloid_leukaemia'), PosixPath('../output/210803_drug-baseline-models/run-logs/CGP-60474/neuroblastoma'), PosixPath('../output/210803_drug-baseline-models/run-logs/CGP-60474/melanoma'), PosixPath('../output/210803_drug-baseline-models/run-logs/CGP-60474/B_cell_lymphoma'), PosixPath('../output/210803_drug-baseline-models/run-logs/CGP-60474/glioma'), PosixPath('../output/210803_drug-baseline-models/run-logs/CGP-60474/ewings_sarcoma'), PosixPath('../output/210803_drug-baseline-models/run-logs/CGP-60474/lung_small_cell_carcinoma'), PosixPath('../output/210803_drug-baseline-models/run-logs/AKT_inhibitor_VIII/large_intestine'), PosixPath('../output/210803_drug-baseline-models/run-logs/AKT_inhibitor_VIII/oesophagus'), PosixPath('../output/210803_drug-baseline-models/run-logs/AKT_inhibitor_VIII/acute_myeloid_leukaemia'), PosixPath('../output/210803_drug-baseline-models/run-logs/AKT_inhibitor_VIII/lung_NSCLC_adenocarcinoma'), PosixPath('../output/210803_drug-baseline-models/run-logs/AKT_inhibitor_VIII/breast'), PosixPath('../output/210803_drug-baseline-models/run-logs/AKT_inhibitor_VIII/neuroblastoma'), PosixPath('../output/210803_drug-baseline-models/run-logs/AKT_inhibitor_VIII/melanoma'), PosixPath('../output/210803_drug-baseline-models/run-logs/AKT_inhibitor_VIII/kidney'), PosixPath('../output/210803_drug-baseline-models/run-logs/AKT_inhibitor_VIII/B_cell_lymphoma'), PosixPath('../output/210803_drug-baseline-models/run-logs/AKT_inhibitor_VIII/glioma'), PosixPath('../output/210803_drug-baseline-models/run-logs/AKT_inhibitor_VIII/stomach'), PosixPath('../output/210803_drug-baseline-models/run-logs/AKT_inhibitor_VIII/Bladder'), PosixPath('../output/210803_drug-baseline-models/run-logs/AKT_inhibitor_VIII/ewings_sarcoma'), PosixPath('../output/210803_drug-baseline-models/run-logs/AKT_inhibitor_VIII/thyroid'), PosixPath('../output/210803_drug-baseline-models/run-logs/AKT_inhibitor_VIII/pancreas'), PosixPath('../output/210803_drug-baseline-models/run-logs/AKT_inhibitor_VIII/lung_small_cell_carcinoma'), PosixPath('../output/210803_drug-baseline-models/run-logs/AKT_inhibitor_VIII/liver'), PosixPath('../output/210803_drug-baseline-models/run-logs/AKT_inhibitor_VIII/ovary'), PosixPath('../output/210803_drug-baseline-models/run-logs/AKT_inhibitor_VIII/mesothelioma'), PosixPath('../output/210803_drug-baseline-models/run-logs/GSK269962A/large_intestine'), PosixPath('../output/210803_drug-baseline-models/run-logs/GSK269962A/oesophagus'), PosixPath('../output/210803_drug-baseline-models/run-logs/GSK269962A/acute_myeloid_leukaemia'), PosixPath('../output/210803_drug-baseline-models/run-logs/GSK269962A/lung_NSCLC_adenocarcinoma'), PosixPath('../output/210803_drug-baseline-models/run-logs/GSK269962A/breast'), PosixPath('../output/210803_drug-baseline-models/run-logs/GSK269962A/neuroblastoma'), PosixPath('../output/210803_drug-baseline-models/run-logs/GSK269962A/melanoma'), PosixPath('../output/210803_drug-baseline-models/run-logs/GSK269962A/kidney'), PosixPath('../output/210803_drug-baseline-models/run-logs/GSK269962A/B_cell_lymphoma'), PosixPath('../output/210803_drug-baseline-models/run-logs/GSK269962A/lung_NSCLC_squamous_cell_carcinoma'), PosixPath('../output/210803_drug-baseline-models/run-logs/GSK269962A/glioma'), PosixPath('../output/210803_drug-baseline-models/run-logs/GSK269962A/stomach'), PosixPath('../output/210803_drug-baseline-models/run-logs/GSK269962A/Bladder'), PosixPath('../output/210803_drug-baseline-models/run-logs/GSK269962A/ewings_sarcoma'), PosixPath('../output/210803_drug-baseline-models/run-logs/GSK269962A/thyroid'), PosixPath('../output/210803_drug-baseline-models/run-logs/GSK269962A/pancreas'), PosixPath('../output/210803_drug-baseline-models/run-logs/GSK269962A/lung_small_cell_carcinoma'), PosixPath('../output/210803_drug-baseline-models/run-logs/GSK269962A/liver'), PosixPath('../output/210803_drug-baseline-models/run-logs/GSK269962A/ovary'), PosixPath('../output/210803_drug-baseline-models/run-logs/GSK269962A/mesothelioma'), PosixPath('../output/210803_drug-baseline-models/run-logs/Salubrinal/large_intestine'), PosixPath('../output/210803_drug-baseline-models/run-logs/Salubrinal/acute_myeloid_leukaemia'), PosixPath('../output/210803_drug-baseline-models/run-logs/Salubrinal/neuroblastoma'), PosixPath('../output/210803_drug-baseline-models/run-logs/Salubrinal/melanoma'), PosixPath('../output/210803_drug-baseline-models/run-logs/Salubrinal/B_cell_lymphoma'), PosixPath('../output/210803_drug-baseline-models/run-logs/Salubrinal/glioma'), PosixPath('../output/210803_drug-baseline-models/run-logs/Salubrinal/ewings_sarcoma'), PosixPath('../output/210803_drug-baseline-models/run-logs/Salubrinal/lung_small_cell_carcinoma'), PosixPath('../output/210803_drug-baseline-models/run-logs/Nutlin-3a/large_intestine'), PosixPath('../output/210803_drug-baseline-models/run-logs/Nutlin-3a/oesophagus'), PosixPath('../output/210803_drug-baseline-models/run-logs/Nutlin-3a/acute_myeloid_leukaemia'), PosixPath('../output/210803_drug-baseline-models/run-logs/Nutlin-3a/lung_NSCLC_adenocarcinoma'), PosixPath('../output/210803_drug-baseline-models/run-logs/Nutlin-3a/breast'), PosixPath('../output/210803_drug-baseline-models/run-logs/Nutlin-3a/neuroblastoma'), PosixPath('../output/210803_drug-baseline-models/run-logs/Nutlin-3a/melanoma'), PosixPath('../output/210803_drug-baseline-models/run-logs/Nutlin-3a/kidney'), PosixPath('../output/210803_drug-baseline-models/run-logs/Nutlin-3a/B_cell_lymphoma'), PosixPath('../output/210803_drug-baseline-models/run-logs/Nutlin-3a/glioma'), PosixPath('../output/210803_drug-baseline-models/run-logs/Nutlin-3a/stomach'), PosixPath('../output/210803_drug-baseline-models/run-logs/Nutlin-3a/Bladder'), PosixPath('../output/210803_drug-baseline-models/run-logs/Nutlin-3a/ewings_sarcoma'), PosixPath('../output/210803_drug-baseline-models/run-logs/Nutlin-3a/pancreas'), PosixPath('../output/210803_drug-baseline-models/run-logs/Nutlin-3a/lung_small_cell_carcinoma'), PosixPath('../output/210803_drug-baseline-models/run-logs/Nutlin-3a/ovary'), PosixPath('../output/210803_drug-baseline-models/run-logs/Pazopanib/large_intestine'), PosixPath('../output/210803_drug-baseline-models/run-logs/Pazopanib/oesophagus'), PosixPath('../output/210803_drug-baseline-models/run-logs/Pazopanib/acute_myeloid_leukaemia'), PosixPath('../output/210803_drug-baseline-models/run-logs/Pazopanib/lung_NSCLC_adenocarcinoma'), PosixPath('../output/210803_drug-baseline-models/run-logs/Pazopanib/breast'), PosixPath('../output/210803_drug-baseline-models/run-logs/Pazopanib/neuroblastoma'), PosixPath('../output/210803_drug-baseline-models/run-logs/Pazopanib/melanoma'), PosixPath('../output/210803_drug-baseline-models/run-logs/Pazopanib/kidney'), PosixPath('../output/210803_drug-baseline-models/run-logs/Pazopanib/B_cell_lymphoma'), PosixPath('../output/210803_drug-baseline-models/run-logs/Pazopanib/glioma'), PosixPath('../output/210803_drug-baseline-models/run-logs/Pazopanib/stomach'), PosixPath('../output/210803_drug-baseline-models/run-logs/Pazopanib/Bladder'), PosixPath('../output/210803_drug-baseline-models/run-logs/Pazopanib/ewings_sarcoma'), PosixPath('../output/210803_drug-baseline-models/run-logs/Pazopanib/thyroid'), PosixPath('../output/210803_drug-baseline-models/run-logs/Pazopanib/pancreas'), PosixPath('../output/210803_drug-baseline-models/run-logs/Pazopanib/lung_small_cell_carcinoma'), PosixPath('../output/210803_drug-baseline-models/run-logs/Pazopanib/liver'), PosixPath('../output/210803_drug-baseline-models/run-logs/Pazopanib/ovary'), PosixPath('../output/210803_drug-baseline-models/run-logs/Pazopanib/mesothelioma'), PosixPath('../output/210803_drug-baseline-models/run-logs/681640/large_intestine'), PosixPath('../output/210803_drug-baseline-models/run-logs/681640/oesophagus'), PosixPath('../output/210803_drug-baseline-models/run-logs/681640/acute_myeloid_leukaemia'), PosixPath('../output/210803_drug-baseline-models/run-logs/681640/lung_NSCLC_adenocarcinoma'), PosixPath('../output/210803_drug-baseline-models/run-logs/681640/breast'), PosixPath('../output/210803_drug-baseline-models/run-logs/681640/neuroblastoma'), PosixPath('../output/210803_drug-baseline-models/run-logs/681640/melanoma'), PosixPath('../output/210803_drug-baseline-models/run-logs/681640/kidney'), PosixPath('../output/210803_drug-baseline-models/run-logs/681640/B_cell_lymphoma'), PosixPath('../output/210803_drug-baseline-models/run-logs/681640/glioma'), PosixPath('../output/210803_drug-baseline-models/run-logs/681640/stomach'), PosixPath('../output/210803_drug-baseline-models/run-logs/681640/Bladder'), PosixPath('../output/210803_drug-baseline-models/run-logs/681640/ewings_sarcoma'), PosixPath('../output/210803_drug-baseline-models/run-logs/681640/pancreas'), PosixPath('../output/210803_drug-baseline-models/run-logs/681640/lung_small_cell_carcinoma'), PosixPath('../output/210803_drug-baseline-models/run-logs/681640/ovary'), PosixPath('../output/210803_drug-baseline-models/run-logs/681640/mesothelioma'), PosixPath('../output/210803_drug-baseline-models/run-logs/Pelitinib/large_intestine'), PosixPath('../output/210803_drug-baseline-models/run-logs/Pelitinib/oesophagus'), PosixPath('../output/210803_drug-baseline-models/run-logs/Pelitinib/acute_myeloid_leukaemia'), PosixPath('../output/210803_drug-baseline-models/run-logs/Pelitinib/lung_NSCLC_adenocarcinoma'), PosixPath('../output/210803_drug-baseline-models/run-logs/Pelitinib/breast'), PosixPath('../output/210803_drug-baseline-models/run-logs/Pelitinib/neuroblastoma'), PosixPath('../output/210803_drug-baseline-models/run-logs/Pelitinib/melanoma'), PosixPath('../output/210803_drug-baseline-models/run-logs/Pelitinib/kidney'), PosixPath('../output/210803_drug-baseline-models/run-logs/Pelitinib/B_cell_lymphoma'), PosixPath('../output/210803_drug-baseline-models/run-logs/Pelitinib/glioma'), PosixPath('../output/210803_drug-baseline-models/run-logs/Pelitinib/stomach'), PosixPath('../output/210803_drug-baseline-models/run-logs/Pelitinib/Bladder'), PosixPath('../output/210803_drug-baseline-models/run-logs/Pelitinib/ewings_sarcoma'), PosixPath('../output/210803_drug-baseline-models/run-logs/Pelitinib/thyroid'), PosixPath('../output/210803_drug-baseline-models/run-logs/Pelitinib/pancreas'), PosixPath('../output/210803_drug-baseline-models/run-logs/Pelitinib/lung_small_cell_carcinoma'), PosixPath('../output/210803_drug-baseline-models/run-logs/Pelitinib/liver'), PosixPath('../output/210803_drug-baseline-models/run-logs/Pelitinib/ovary'), PosixPath('../output/210803_drug-baseline-models/run-logs/Pelitinib/mesothelioma'), PosixPath('../output/210803_drug-baseline-models/run-logs/Obatoclax_mesylate/large_intestine'), PosixPath('../output/210803_drug-baseline-models/run-logs/Obatoclax_mesylate/lung_NSCLC'), PosixPath('../output/210803_drug-baseline-models/run-logs/Obatoclax_mesylate/neuroblastoma'), PosixPath('../output/210803_drug-baseline-models/run-logs/Obatoclax_mesylate/kidney'), PosixPath('../output/210803_drug-baseline-models/run-logs/Obatoclax_mesylate/bone'), PosixPath('../output/210803_drug-baseline-models/run-logs/Obatoclax_mesylate/lymphoma'), PosixPath('../output/210803_drug-baseline-models/run-logs/Obatoclax_mesylate/soft_tissue'), PosixPath('../output/210803_drug-baseline-models/run-logs/Obatoclax_mesylate/aero_dig_tract'), PosixPath('../output/210803_drug-baseline-models/run-logs/Obatoclax_mesylate/leukemia'), PosixPath('../output/210803_drug-baseline-models/run-logs/Obatoclax_mesylate/urogenital_system'), PosixPath('../output/210803_drug-baseline-models/run-logs/Obatoclax_mesylate/digestive_system'), PosixPath('../output/210803_drug-baseline-models/run-logs/Obatoclax_mesylate/pancreas'), PosixPath('../output/210803_drug-baseline-models/run-logs/Obatoclax_mesylate/lung_SCLC'), PosixPath('../output/210803_drug-baseline-models/run-logs/Obatoclax_mesylate/nervous_system')]\n",
      "CPU times: user 4.27 ms, sys: 19.7 ms, total: 24 ms\n",
      "Wall time: 24 ms\n"
     ]
    }
   ],
   "source": [
    "%%time\n",
    "\n",
    "#logs_directory = Path(\"../output/b/run-logs\")\n",
    "logs_directory = Path(\"../output/210803_drug-baseline-models/run-logs\")\n",
    "\n",
    "all_paths = []\n",
    "empty = []\n",
    "for drug_directory in logs_directory.glob(\"*\"): \n",
    "    for tissue_directory in drug_directory.glob(\"*\"):\n",
    "        if not any(tissue_directory.iterdir()):\n",
    "            drug = str(tissue_directory).split(\"/\")[-2]\n",
    "            if drug not in empty:\n",
    "                empty.append(drug)\n",
    "        else:\n",
    "            all_paths.append(tissue_directory)\n",
    "\n",
    "print(all_paths)\n",
    "        \n",
    "#with Pool(64) as p: \n",
    "    #results = p.map(select_hyperparameter, all_paths)\n",
    "    \n",
    "# all_test_corrs = np.vstack([metric.test_corr for param, metric in results])"
   ]
  },
  {
   "cell_type": "code",
   "execution_count": 24,
   "id": "25b41655",
   "metadata": {},
   "outputs": [
    {
     "name": "stdout",
     "output_type": "stream",
     "text": [
      "['681640', 'AKT_inhibitor_VIII', 'AZD7762', 'Afatinib', 'Amuvatinib', 'BMS-536924', 'BX796', 'CUDC-101', 'Crizotinib', 'GSK1904529A', 'GSK269962A', 'Gefitinib', 'Genentech_Cpd_10', 'HG-5-88-01', 'I-BET-762', 'IPA-3', 'JW-7-52-1', 'KIN001-270', 'Linifanib', 'Linsitinib', 'Masitinib', 'Midostaurin', 'Nutlin-3a', 'Obatoclax_mesylate', 'PHA-793887', 'Palbociclib', 'Pazopanib', 'Pelitinib', 'Ponatinib', 'QL-XII-61', 'RO-3306', 'Rucaparib', 'SB216763', 'SGC0946', 'Sorafenib', 'Talazoparib', 'Veliparib', 'WIKI4', 'XMD14-99']\n",
      "39\n"
     ]
    }
   ],
   "source": [
    "empty.sort()\n",
    "print(empty)\n",
    "print(len(empty))"
   ]
  },
  {
   "cell_type": "code",
   "execution_count": 7,
   "id": "cd3f25dc-5be5-4e21-a6a5-f584dbb868cc",
   "metadata": {},
   "outputs": [
    {
     "ename": "ValueError",
     "evalue": "need at least one array to concatenate",
     "output_type": "error",
     "traceback": [
      "\u001b[0;31m---------------------------------------------------------------------------\u001b[0m",
      "\u001b[0;31mValueError\u001b[0m                                Traceback (most recent call last)",
      "Cell \u001b[0;32mIn[7], line 1\u001b[0m\n\u001b[0;32m----> 1\u001b[0m all_test_corrs \u001b[38;5;241m=\u001b[39m np\u001b[38;5;241m.\u001b[39mvstack([r[\u001b[38;5;241m1\u001b[39m] \u001b[38;5;28;01mfor\u001b[39;00m r \u001b[38;5;129;01min\u001b[39;00m results])\n",
      "File \u001b[0;32m/opt/anaconda3/lib/python3.11/site-packages/numpy/core/shape_base.py:289\u001b[0m, in \u001b[0;36mvstack\u001b[0;34m(tup, dtype, casting)\u001b[0m\n\u001b[1;32m    287\u001b[0m \u001b[38;5;28;01mif\u001b[39;00m \u001b[38;5;129;01mnot\u001b[39;00m \u001b[38;5;28misinstance\u001b[39m(arrs, \u001b[38;5;28mlist\u001b[39m):\n\u001b[1;32m    288\u001b[0m     arrs \u001b[38;5;241m=\u001b[39m [arrs]\n\u001b[0;32m--> 289\u001b[0m \u001b[38;5;28;01mreturn\u001b[39;00m _nx\u001b[38;5;241m.\u001b[39mconcatenate(arrs, \u001b[38;5;241m0\u001b[39m, dtype\u001b[38;5;241m=\u001b[39mdtype, casting\u001b[38;5;241m=\u001b[39mcasting)\n",
      "\u001b[0;31mValueError\u001b[0m: need at least one array to concatenate"
     ]
    }
   ],
   "source": [
    "all_test_corrs = np.vstack([r[1] for r in results])"
   ]
  },
  {
   "cell_type": "code",
   "execution_count": null,
   "id": "88a1283c-8f64-4e52-948f-dd49ebb419a8",
   "metadata": {},
   "outputs": [],
   "source": [
    "np.savez(\"tcrp_fewshot-test-correlations-corrected\", all_test_corrs)\n",
    "\n",
    "with open(\"tcrp_all_log_paths.pkl\", \"wb\") as f: \n",
    "    pickle.dump(all_paths, f)\n",
    "    \n",
    "with open(\"tcrp_all_results.pkl\", \"wb\") as f: \n",
    "    pickle.dump(results, f)"
   ]
  }
 ],
 "metadata": {
  "kernelspec": {
   "display_name": "base",
   "language": "python",
   "name": "python3"
  },
  "language_info": {
   "codemirror_mode": {
    "name": "ipython",
    "version": 3
   },
   "file_extension": ".py",
   "mimetype": "text/x-python",
   "name": "python",
   "nbconvert_exporter": "python",
   "pygments_lexer": "ipython3",
   "version": "3.11.7"
  }
 },
 "nbformat": 4,
 "nbformat_minor": 5
}
