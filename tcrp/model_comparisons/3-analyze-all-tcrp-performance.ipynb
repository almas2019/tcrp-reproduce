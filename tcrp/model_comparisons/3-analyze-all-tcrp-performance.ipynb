{
 "cells": [
  {
   "cell_type": "code",
   "execution_count": null,
   "id": "7c17701a-58ec-4af4-b5d0-5a35745cc7c8",
   "metadata": {},
   "outputs": [],
   "source": [
    "%load_ext autoreload\n",
    "%autoreload 2\n",
    "!echo $HOSTNAME\n",
    "\n",
    "import sys\n",
    "print('Python path: ', sys.executable)"
   ]
  },
  {
   "cell_type": "code",
   "execution_count": 1,
   "id": "f2290887-39fd-4901-b6b7-26679ac9d81a",
   "metadata": {},
   "outputs": [],
   "source": [
    "from pathlib import Path\n",
    "from collections import namedtuple\n",
    "import numpy as np\n",
    "import matplotlib.pyplot as plt\n",
    "import pandas as pd\n",
    "import sys\n",
    "import pickle"
   ]
  },
  {
   "cell_type": "markdown",
   "id": "363540df-8642-486f-9d62-f155d2c7811e",
   "metadata": {},
   "source": [
    "## Gathering fewshot resutls"
   ]
  },
  {
   "cell_type": "code",
   "execution_count": 2,
   "id": "762a5a59-033a-4aa5-ae2a-41360d4b56eb",
   "metadata": {},
   "outputs": [],
   "source": [
    "fewshot_performance = np.load(\"tcrp_fewshot-test-correlations-corrected.npz\")['arr_0']"
   ]
  },
  {
   "cell_type": "markdown",
   "id": "5f40acdf-0c9c-4ecb-80e5-5ba18e858f1b",
   "metadata": {},
   "source": [
    "## Gathering baselines"
   ]
  },
  {
   "cell_type": "code",
   "execution_count": 7,
   "id": "e29fe865-3569-447e-a303-696e4d676fb5",
   "metadata": {},
   "outputs": [],
   "source": [
    "datapath = Path(\"../output/210803_drug-baseline-models/baseline_performances\")"
   ]
  },
  {
   "cell_type": "code",
   "execution_count": 8,
   "id": "23a1f301-8aaa-429e-8748-a19d95a9605d",
   "metadata": {},
   "outputs": [
    {
     "name": "stdout",
     "output_type": "stream",
     "text": [
      "CPU times: user 11.6 ms, sys: 4.76 ms, total: 16.3 ms\n",
      "Wall time: 19.2 ms\n"
     ]
    }
   ],
   "source": [
    "%%time\n",
    "\n",
    "results = {}\n",
    "for outer_directory in datapath.glob(\"*\"): \n",
    "    drug = outer_directory.stem\n",
    "    results[drug] = {}\n",
    "    \n",
    "    for inner_directory in outer_directory.glob(\"*\"): \n",
    "        tissue = inner_directory.stem\n",
    "        results[drug][tissue] = {}\n",
    "        \n",
    "        data = np.load(inner_directory / \"baseline_performance.npz\")\n",
    "        \n",
    "        for model in ['linear', 'KNN', 'RF']: \n",
    "            zero = data[f\"{model}-zero\"]\n",
    "            zero = np.vstack([zero for _ in range(20)]) # There is only 1 possible zero-shot, so expanding for all trials\n",
    "            performance = np.median(np.hstack([zero, data[f\"{model}-fewshot\"]]), axis=0)\n",
    "            \n",
    "            results[drug][tissue][model] = performance    "
   ]
  },
  {
   "cell_type": "code",
   "execution_count": 9,
   "id": "2f935ab7",
   "metadata": {},
   "outputs": [
    {
     "name": "stdout",
     "output_type": "stream",
     "text": [
      "{'Pelitinib': {'large_intestine': {'linear': array([0.24260145, 0.26542738, 0.27005144, 0.26897658, 0.27084133,\n",
      "       0.27103202, 0.26912437, 0.26259859, 0.25877373, 0.25388304,\n",
      "       0.24975556]), 'KNN': array([0.42120543, 0.39816521, 0.39989879, 0.41110576, 0.39747358,\n",
      "       0.40635404, 0.41450559, 0.41451399, 0.43469571, 0.38487504,\n",
      "       0.38487504]), 'RF': array([0.10113704, 0.05310196, 0.05111078, 0.05070722, 0.05739181,\n",
      "       0.08982323, 0.0537044 , 0.06751961, 0.07301644, 0.04722407,\n",
      "       0.07880307])}, 'oesophagus': {'linear': array([0.09123436, 0.0644874 , 0.06859072, 0.06878   , 0.07132263,\n",
      "       0.06822953, 0.06474985, 0.07946947, 0.07530924, 0.07053963,\n",
      "       0.07451858]), 'KNN': array([-0.03795385, -0.06559652, -0.05501306, -0.06274335, -0.11061035,\n",
      "       -0.0679082 , -0.11188527, -0.11188527, -0.1200148 , -0.12034603,\n",
      "       -0.14226821]), 'RF': array([-0.09737757, -0.08529335, -0.11225562, -0.11291893, -0.10238597,\n",
      "       -0.06148702, -0.07444732, -0.12153841, -0.12059941, -0.11510844,\n",
      "       -0.11719548])}, 'acute_myeloid_leukaemia': {'linear': array([-0.44057662, -0.551085  , -0.5637512 , -0.56404405, -0.55906313,\n",
      "       -0.54608069, -0.54813392, -0.54647178, -0.5468961 , -0.54350596,\n",
      "       -0.54455336]), 'KNN': array([0.07293835, 0.22324426, 0.22245563, 0.22245563, 0.22324426,\n",
      "       0.22324426, 0.22324426, 0.22324426, 0.22245563, 0.22245563,\n",
      "       0.22213133]), 'RF': array([-0.09680714, -0.05356105, -0.03153568, -0.05240353, -0.08849018,\n",
      "       -0.05692665,  0.02129397, -0.04903327, -0.09214297, -0.09512062,\n",
      "       -0.03535696])}, 'lung_NSCLC_adenocarcinoma': {'linear': array([-0.05273976, -0.0487221 , -0.05030792, -0.04516605, -0.04464565,\n",
      "       -0.04502528, -0.04414692, -0.0477589 , -0.0476896 , -0.04768594,\n",
      "       -0.04716433]), 'KNN': array([ 0.07824058, -0.02202662, -0.02340778, -0.02340778,  0.0142635 ,\n",
      "       -0.02508659, -0.02440173, -0.01245984, -0.03957096,  0.00300352,\n",
      "       -0.04391337]), 'RF': array([-0.18749953, -0.17269293, -0.15084133, -0.16550512, -0.19061334,\n",
      "       -0.15725265, -0.17091419, -0.17685942, -0.17627825, -0.18068505,\n",
      "       -0.16454924])}, 'breast': {'linear': array([0.1715484 , 0.16927457, 0.1720749 , 0.17886347, 0.17905733,\n",
      "       0.17440602, 0.18332613, 0.18190145, 0.18286517, 0.1812833 ,\n",
      "       0.18288674]), 'KNN': array([-0.17937617,  0.02408618,  0.03888405,  0.06138379,  0.04878555,\n",
      "       -0.01541992,  0.0477634 ,  0.09405221,  0.07762746,  0.05695624,\n",
      "        0.04831206]), 'RF': array([ 0.01634978, -0.07588837, -0.06812302, -0.01799807, -0.07728858,\n",
      "       -0.05949217, -0.06287009, -0.07781242, -0.07508402, -0.0861147 ,\n",
      "       -0.06666028])}, 'neuroblastoma': {'linear': array([0.04712604, 0.01867768, 0.01621261, 0.02327001, 0.02097492,\n",
      "       0.02729023, 0.02616429, 0.02591338, 0.01795637, 0.02910793,\n",
      "       0.02949294]), 'KNN': array([-0.07184589, -0.16941772, -0.18341657, -0.18060475, -0.21854702,\n",
      "       -0.21371183, -0.20066211, -0.18990277, -0.18060475, -0.18060475,\n",
      "       -0.21846418]), 'RF': array([-0.18577165, -0.25463225, -0.18967968, -0.19182621, -0.18769921,\n",
      "       -0.20228184, -0.19554817, -0.22477907, -0.20595873, -0.18546436,\n",
      "       -0.22024223])}, 'melanoma': {'linear': array([-0.12460938, -0.08540607, -0.08025357, -0.07941405, -0.08648065,\n",
      "       -0.09219891, -0.1004791 , -0.0966085 , -0.09484958, -0.09430588,\n",
      "       -0.11209324]), 'KNN': array([0.24162202, 0.27357862, 0.25607165, 0.29100684, 0.27931978,\n",
      "       0.25737401, 0.25378506, 0.26334561, 0.26713284, 0.28748982,\n",
      "       0.27306261]), 'RF': array([-0.13029013, -0.09516676, -0.08007753, -0.09135862, -0.07748012,\n",
      "       -0.07747979, -0.09388467, -0.05545359, -0.0815898 , -0.08689298,\n",
      "       -0.055502  ])}, 'kidney': {'linear': array([0.02907506, 0.09494168, 0.09935565, 0.09976688, 0.0984128 ,\n",
      "       0.09832104, 0.09701187, 0.09233717, 0.10049528, 0.0856114 ,\n",
      "       0.08629888]), 'KNN': array([ 0.0248292 , -0.06463213, -0.06856142, -0.04659371,  0.01785599,\n",
      "       -0.00662539,  0.04740815,  0.02364638,  0.03745769,  0.04531341,\n",
      "       -0.03863595]), 'RF': array([-0.16316936, -0.19215079, -0.27136271, -0.2081811 , -0.21814644,\n",
      "       -0.19364912, -0.22165761, -0.20586789, -0.21001088, -0.26222643,\n",
      "       -0.1939143 ])}, 'B_cell_lymphoma': {'linear': array([-0.06975774, -0.03959572, -0.04539034, -0.0433749 , -0.03965371,\n",
      "       -0.04415661, -0.04179421, -0.0517515 , -0.05088212, -0.054852  ,\n",
      "       -0.05462026]), 'KNN': array([0.34741109, 0.27591329, 0.27607025, 0.31964313, 0.27591329,\n",
      "       0.29482288, 0.26733721, 0.26733721, 0.28213208, 0.27379239,\n",
      "       0.23349916]), 'RF': array([0.2987638 , 0.37499284, 0.37449045, 0.35013285, 0.35212875,\n",
      "       0.34742006, 0.34482929, 0.34383032, 0.33003967, 0.30553959,\n",
      "       0.32100669])}, 'glioma': {'linear': array([-0.07846055, -0.03712214, -0.03536487, -0.04274886, -0.04219753,\n",
      "       -0.04868391, -0.04885635, -0.05032677, -0.04832281, -0.04829772,\n",
      "       -0.05178104]), 'KNN': array([ 0.03038243, -0.00194964,  0.00352563, -0.00430084,  0.03066065,\n",
      "       -0.00405264,  0.00141396, -0.00168223,  0.00574778, -0.00513647,\n",
      "        0.03274408]), 'RF': array([-0.02607667, -0.02989441, -0.04111566, -0.05040844, -0.06194334,\n",
      "       -0.05302349, -0.06492773, -0.08457176, -0.049395  , -0.05051396,\n",
      "       -0.08211613])}, 'stomach': {'linear': array([-0.07116616, -0.11125374, -0.11541297, -0.13285043, -0.13483012,\n",
      "       -0.13771183, -0.12837006, -0.13256583, -0.14613308, -0.15223536,\n",
      "       -0.15115675]), 'KNN': array([-0.03295845,  0.02786399,  0.04058407,  0.04058407, -0.01845912,\n",
      "       -0.02269711,  0.02797762,  0.07061107,  0.06351862, -0.02212851,\n",
      "        0.02070899]), 'RF': array([ 0.02397829, -0.00058225, -0.01692331,  0.02181768,  0.09097082,\n",
      "        0.06599422,  0.11618105,  0.06650412,  0.0552905 ,  0.0513535 ,\n",
      "        0.01570052])}, 'Bladder': {'linear': array([0.122387  , 0.04446607, 0.04383949, 0.04463202, 0.0523734 ,\n",
      "       0.05254152, 0.05181263, 0.08091746, 0.08285342, 0.07688243,\n",
      "       0.07552472]), 'KNN': array([0.36792373, 0.20040864, 0.40265249, 0.26587997, 0.24717107,\n",
      "       0.1950906 , 0.38910198, 0.38651179, 0.21578363, 0.29595598,\n",
      "       0.34562013]), 'RF': array([0.2769546 , 0.19170776, 0.17142503, 0.18476859, 0.15326248,\n",
      "       0.26666073, 0.23394546, 0.22358102, 0.24938265, 0.19337346,\n",
      "       0.23424711])}, 'ewings_sarcoma': {'linear': array([0.37793011, 0.3678807 , 0.37032586, 0.36213626, 0.37713366,\n",
      "       0.37919497, 0.37032008, 0.37588129, 0.37398064, 0.37049666,\n",
      "       0.37044144]), 'KNN': array([0.1240846 , 0.27147383, 0.2921562 , 0.2921562 , 0.22991564,\n",
      "       0.27147383, 0.26972166, 0.27017583, 0.27147383, 0.22991564,\n",
      "       0.26972166]), 'RF': array([0.27204853, 0.12239419, 0.15399097, 0.11741228, 0.0458236 ,\n",
      "       0.1748529 , 0.15873098, 0.01659103, 0.09060647, 0.07907546,\n",
      "       0.09717734])}, 'thyroid': {'linear': array([0.19095383, 0.23328659, 0.27097027, 0.2565517 , 0.24348424,\n",
      "       0.24058788, 0.23406527, 0.24369207, 0.23667467, 0.24069765,\n",
      "       0.26905013]), 'KNN': array([-0.42090148, -0.08574058,  0.09447407,  0.10922422, -0.19493101,\n",
      "        0.04536622, -0.09587127, -0.11594882,  0.13138027,  0.21952932,\n",
      "       -0.02610051]), 'RF': array([-0.20870772, -0.00543874,  0.12426467, -0.02802978, -0.04852567,\n",
      "        0.09871412,  0.09236564, -0.01205434,  0.03778741,  0.06408026,\n",
      "        0.0839409 ])}, 'pancreas': {'linear': array([-0.08809155, -0.02900009, -0.02672335, -0.02261992, -0.01915942,\n",
      "       -0.01988467, -0.02217756, -0.00456965, -0.00623322, -0.01041173,\n",
      "       -0.00874814]), 'KNN': array([-0.04005403, -0.20094238, -0.20341101, -0.13827552, -0.19486975,\n",
      "       -0.19082324, -0.19486975, -0.18119693, -0.18052028, -0.19419311,\n",
      "       -0.12060512]), 'RF': array([-0.02522899, -0.01482854, -0.0061955 ,  0.05043681, -0.01452362,\n",
      "        0.00234872,  0.03078276,  0.01355243,  0.01727279,  0.02304933,\n",
      "        0.0157225 ])}, 'lung_small_cell_carcinoma': {'linear': array([0.1961546 , 0.2096992 , 0.21270878, 0.21178098, 0.19499881,\n",
      "       0.19270226, 0.19774277, 0.19911101, 0.19694157, 0.18929587,\n",
      "       0.19870489]), 'KNN': array([-0.12660001, -0.0969636 , -0.13921881, -0.12858528, -0.08456105,\n",
      "       -0.07667111, -0.15082778, -0.17701031, -0.15192779, -0.112693  ,\n",
      "       -0.07573206]), 'RF': array([-0.00693195, -0.02891367, -0.01306825, -0.03654166, -0.02474079,\n",
      "       -0.03320781, -0.03897694, -0.04026585, -0.02337673, -0.01924342,\n",
      "       -0.0143334 ])}, 'liver': {'linear': array([-0.20222575, -0.3816709 , -0.38323392, -0.39680982, -0.38722315,\n",
      "       -0.38049958, -0.37746707, -0.38104789, -0.33801169, -0.34913566,\n",
      "       -0.32626696]), 'KNN': array([0.06034366, 0.15312071, 0.21800551, 0.21493989, 0.23862768,\n",
      "       0.1685777 , 0.15312071, 0.20250687, 0.15312071, 0.21493989,\n",
      "       0.15312071]), 'RF': array([0.22336006, 0.19070299, 0.16493273, 0.34664864, 0.1125597 ,\n",
      "       0.27054202, 0.14169442, 0.23871199, 0.30191486, 0.34424325,\n",
      "       0.27679614])}, 'ovary': {'linear': array([-0.38736095, -0.3980264 , -0.39838499, -0.40225873, -0.40720131,\n",
      "       -0.41258545, -0.4076281 , -0.40403601, -0.40374677, -0.40310823,\n",
      "       -0.39984338]), 'KNN': array([0.28367478, 0.21535344, 0.20188859, 0.20188859, 0.16881054,\n",
      "       0.29180625, 0.20006198, 0.24736981, 0.26685722, 0.21640351,\n",
      "       0.26321473]), 'RF': array([-0.25347106, -0.25874243, -0.31351027, -0.28615096, -0.26675325,\n",
      "       -0.29183691, -0.27042451, -0.32322924, -0.2687323 , -0.28602997,\n",
      "       -0.31000637])}, 'mesothelioma': {'linear': array([0.05188884, 0.10077118, 0.11983634, 0.12307716, 0.13121284,\n",
      "       0.13123354, 0.13102554, 0.12909226, 0.11733656, 0.1103036 ,\n",
      "       0.1365415 ]), 'KNN': array([-0.19326677, -0.03767414, -0.03767414, -0.03767414, -0.03767414,\n",
      "       -0.05163999, -0.03767414, -0.06707585, -0.11048455, -0.11048455,\n",
      "       -0.11266724]), 'RF': array([0.41206127, 0.46067224, 0.37506556, 0.49469429, 0.61633373,\n",
      "       0.50792623, 0.43878606, 0.45401226, 0.38737207, 0.36233677,\n",
      "       0.46402316])}}}\n"
     ]
    }
   ],
   "source": [
    "print(results)"
   ]
  },
  {
   "cell_type": "code",
   "execution_count": 10,
   "id": "23ed4996-5066-4cad-ba49-00ee9a10158e",
   "metadata": {},
   "outputs": [],
   "source": [
    "results_by_baseline = {'linear': [], 'KNN': [], 'RF': []}\n",
    "\n",
    "for drug, d in results.items(): \n",
    "    for tissue, d in d.items(): \n",
    "        for model, p in d.items(): \n",
    "            results_by_baseline[model].append(p)\n",
    "            \n",
    "for model, ps in results_by_baseline.items(): \n",
    "    results_by_baseline[model] = np.vstack(ps)"
   ]
  },
  {
   "cell_type": "markdown",
   "id": "dc9c7b38-7ba2-4533-9e8e-6d70d819b5ff",
   "metadata": {},
   "source": [
    "## All performance"
   ]
  },
  {
   "cell_type": "code",
   "execution_count": 11,
   "id": "8e278b1d-2ccb-4957-8c59-362ec6403d0d",
   "metadata": {
    "tags": []
   },
   "outputs": [],
   "source": [
    "def get_statistics(data): \n",
    "    median = np.nanmean(data, axis=0)\n",
    "    index = np.random.choice(data.shape[0], size=(data.shape[0], 1000), replace=True)\n",
    "    resampled = np.nanmean(data[index], axis=0)\n",
    "\n",
    "    low = np.nanpercentile(resampled, 2.5, axis=0)\n",
    "    high = np.nanpercentile(resampled, 97.5, axis=0)\n",
    "    \n",
    "    ci = np.vstack([median - low, high-median])\n",
    "    \n",
    "    return median, ci"
   ]
  },
  {
   "cell_type": "code",
   "execution_count": 12,
   "id": "cc84e759-b553-48d4-aebb-ef7e653d0058",
   "metadata": {},
   "outputs": [
    {
     "data": {
      "text/plain": [
       "Text(0.5, 1.0, 'Corrected results')"
      ]
     },
     "execution_count": 12,
     "metadata": {},
     "output_type": "execute_result"
    },
    {
     "data": {
      "image/png": "[encoded data removed]",
      "text/plain": [
       "<Figure size 640x480 with 1 Axes>"
      ]
     },
     "metadata": {},
     "output_type": "display_data"
    }
   ],
   "source": [
    "fig, ax = plt.subplots()\n",
    "\n",
    "x = np.arange(11)\n",
    "\n",
    "kwargs = {'capsize': 4}\n",
    "\n",
    "for model, ps in results_by_baseline.items(): \n",
    "    median, yerr = get_statistics(ps)\n",
    "    ax.errorbar(x, median, yerr=yerr, label=model, **kwargs)\n",
    "    \n",
    "median, yerr = get_statistics(fewshot_performance)\n",
    "ax.errorbar(x, median, yerr=yerr, label='TCRP', **kwargs)\n",
    "\n",
    "ax.legend()\n",
    "labels = ['Pretrained'] + [str(i) for i in range(1, 11)]\n",
    "ax.set_xticks(np.arange(11))\n",
    "ax.set_xticklabels(labels)\n",
    "\n",
    "ax.set_ylim([0, 0.3])\n",
    "ax.set_xlabel(\"Number of samples, few-shot learning\")\n",
    "ax.set_ylabel(\"Correlation (predicted, actual)\")\n",
    "\n",
    "ax.set_title(\"Corrected results\")"
   ]
  },
  {
   "cell_type": "code",
   "execution_count": null,
   "id": "bfe59ad4-35a9-4122-89fc-d67ac94e4513",
   "metadata": {},
   "outputs": [],
   "source": [
    "median"
   ]
  },
  {
   "cell_type": "code",
   "execution_count": null,
   "id": "8be52b72-cfd8-4f8a-b4d6-256ea55b38db",
   "metadata": {},
   "outputs": [],
   "source": []
  }
 ],
 "metadata": {
  "kernelspec": {
   "display_name": "base",
   "language": "python",
   "name": "python3"
  },
  "language_info": {
   "codemirror_mode": {
    "name": "ipython",
    "version": 3
   },
   "file_extension": ".py",
   "mimetype": "text/x-python",
   "name": "python",
   "nbconvert_exporter": "python",
   "pygments_lexer": "ipython3",
   "version": "3.11.7"
  }
 },
 "nbformat": 4,
 "nbformat_minor": 5
}
